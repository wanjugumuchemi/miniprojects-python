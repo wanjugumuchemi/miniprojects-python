{
 "cells": [
  {
   "cell_type": "markdown",
   "metadata": {},
   "source": [
    "#Takes in 3 numbers if the sum of a+b+c <21 it returns the sum if >21 it returns bust however is it is >21 and one of the values is 11 : sum -10 "
   ]
  },
  {
   "cell_type": "code",
   "execution_count": 53,
   "metadata": {},
   "outputs": [],
   "source": [
    "def build_profile():\n",
    "    game_scores ={}\n",
    "    player = str(input('What is your name:'))\n",
    "    import random\n",
    "    a = random.randint(1,11)\n",
    "    b = random.randint(1,11)\n",
    "    c = random.randint(1,11)\n",
    "    score = sum([a,b,c])\n",
    "    if a == 11 or b== 11 or c== 11:\n",
    "        score -= 10\n",
    "    game_scores['player'] = player\n",
    "    game_scores['score'] = score\n",
    "    \n",
    "    return game_scores\n"
   ]
  },
  {
   "cell_type": "code",
   "execution_count": null,
   "metadata": {},
   "outputs": [],
   "source": [
    "#Test\n",
    "build_profile()"
   ]
  },
  {
   "cell_type": "code",
   "execution_count": null,
   "metadata": {},
   "outputs": [],
   "source": [
    "def house_profile():\n",
    "    house_scores = {}\n",
    "    import random\n",
    "    a = random.randint(1,11)\n",
    "    b = random.randint(1,11)\n",
    "    c = random.randint(1,11)\n",
    "    score = sum([a,b,c])\n",
    "    if a == 11 or b== 11 or c== 11:\n",
    "        score -= 10\n",
    "    house_scores['name'] = 'house'\n",
    "    house_scores ['score'] = score\n",
    "    \n",
    "    return house_scores\n"
   ]
  },
  {
   "cell_type": "code",
   "execution_count": 56,
   "metadata": {},
   "outputs": [],
   "source": [
    "def comparator(house_score,game_score):\n",
    "    house_score = house_scores['score']\n",
    "    player_score = game_scores['score']\n",
    "    \n",
    "    player = game_scores['player']\n",
    "    if house_score <=21 and player_score <=21:\n",
    "        if house_score>player_score:\n",
    "            print('house wins')\n",
    "        else:\n",
    "            print(f'{player} win')\n",
    "    else:\n",
    "        print('bust')"
   ]
  },
  {
   "cell_type": "code",
   "execution_count": null,
   "metadata": {},
   "outputs": [
    {
     "name": "stdout",
     "output_type": "stream",
     "text": [
      "Welcome to blackjack\n"
     ]
    }
   ],
   "source": [
    "# Combine logic\n",
    "print('Welcome to blackjack')\n",
    "\n",
    "play = input('Do you want to play? ')\n",
    "\n",
    "\n",
    "while play == 'yes':\n",
    "    game_scores = build_profile()\n",
    "    house_scores = house_profile()\n",
    "    comparator(house_score, game_score)\n",
    "\n",
    "    checker = input('Wanna play again: ')\n",
    "\n",
    "    if checker == 'yes':\n",
    "        continue\n",
    "    else:\n",
    "        break"
   ]
  },
  {
   "cell_type": "code",
   "execution_count": null,
   "metadata": {},
   "outputs": [],
   "source": []
  }
 ],
 "metadata": {
  "kernelspec": {
   "display_name": "Python 3",
   "language": "python",
   "name": "python3"
  },
  "language_info": {
   "codemirror_mode": {
    "name": "ipython",
    "version": 3
   },
   "file_extension": ".py",
   "mimetype": "text/x-python",
   "name": "python",
   "nbconvert_exporter": "python",
   "pygments_lexer": "ipython3",
   "version": "3.8.5"
  }
 },
 "nbformat": 4,
 "nbformat_minor": 4
}
